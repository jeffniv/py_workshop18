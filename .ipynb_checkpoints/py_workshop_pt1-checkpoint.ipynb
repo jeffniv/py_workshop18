{
 "cells": [
  {
   "cell_type": "markdown",
   "metadata": {},
   "source": [
    "# Math Grads Python Workshop\n",
    "Part I: Forward Pass\n",
    "\n",
    "This is of the introductory course to machine learning and `Python`."
   ]
  },
  {
   "cell_type": "code",
   "execution_count": 5,
   "metadata": {},
   "outputs": [],
   "source": [
    "%matplotlib inline\n",
    "import numpy as np\n",
    "import scipy\n",
    "import matplotlib.pyplot as mpl"
   ]
  },
  {
   "cell_type": "markdown",
   "metadata": {},
   "source": [
    "Initialize parameters for neural net."
   ]
  },
  {
   "cell_type": "code",
   "execution_count": 109,
   "metadata": {},
   "outputs": [],
   "source": [
    "##--------------------------\n",
    "depth = 3\n",
    "hidden_depth = depth-2\n",
    "heights = np.array([2,3,1])\n",
    "inputs = np.array([[1],[2]])\n",
    "##---------------------------\n",
    "weights = list()\n",
    "h_layers = list([inputs])\n",
    "for i in np.arange(1, depth):\n",
    "    weights.append(np.random.rand(heights[i], heights[i-1]))\n",
    "    h_layers.append(np.zeros([heights[i],1]))\n",
    "h_inputs = h_layers.copy()"
   ]
  },
  {
   "cell_type": "code",
   "execution_count": 110,
   "metadata": {},
   "outputs": [
    {
     "data": {
      "text/plain": [
       "[array([[1],\n",
       "        [2]]), array([[0.],\n",
       "        [0.],\n",
       "        [0.]]), array([[0.]])]"
      ]
     },
     "execution_count": 110,
     "metadata": {},
     "output_type": "execute_result"
    }
   ],
   "source": [
    "h_layers"
   ]
  },
  {
   "cell_type": "code",
   "execution_count": 111,
   "metadata": {},
   "outputs": [
    {
     "data": {
      "text/plain": [
       "[array([[0.1228951 , 0.47665422],\n",
       "        [0.00668225, 0.55727484],\n",
       "        [0.66641514, 0.05710856]]),\n",
       " array([[0.68557842, 0.53861022, 0.37618885]])]"
      ]
     },
     "execution_count": 111,
     "metadata": {},
     "output_type": "execute_result"
    }
   ],
   "source": [
    "weights"
   ]
  },
  {
   "cell_type": "code",
   "execution_count": 112,
   "metadata": {},
   "outputs": [
    {
     "data": {
      "text/plain": [
       "[array([[1],\n",
       "        [2]]), array([[0.],\n",
       "        [0.],\n",
       "        [0.]]), array([[0.]])]"
      ]
     },
     "execution_count": 112,
     "metadata": {},
     "output_type": "execute_result"
    }
   ],
   "source": [
    "h_inputs"
   ]
  },
  {
   "cell_type": "markdown",
   "metadata": {},
   "source": [
    "Define our functions."
   ]
  },
  {
   "cell_type": "code",
   "execution_count": 113,
   "metadata": {
    "scrolled": true
   },
   "outputs": [],
   "source": [
    "def phi(x):\n",
    "    return(1/(1+np.exp(-x)))"
   ]
  },
  {
   "cell_type": "markdown",
   "metadata": {},
   "source": [
    "Step through the layers using a loop structure."
   ]
  },
  {
   "cell_type": "code",
   "execution_count": 114,
   "metadata": {},
   "outputs": [],
   "source": [
    "for j in range(depth-1):\n",
    "    h_layers[j+1] = np.matmul(weights[j],h_inputs[j])\n",
    "    h_inputs[j+1] = phi(h_layers[j+1])"
   ]
  },
  {
   "cell_type": "code",
   "execution_count": 116,
   "metadata": {},
   "outputs": [
    {
     "data": {
      "text/plain": [
       "[array([[1],\n",
       "        [2]]), array([[1.07620353],\n",
       "        [1.12123193],\n",
       "        [0.78063226]]), array([[1.1755127]])]"
      ]
     },
     "execution_count": 116,
     "metadata": {},
     "output_type": "execute_result"
    }
   ],
   "source": [
    "h_layers"
   ]
  },
  {
   "cell_type": "code",
   "execution_count": 117,
   "metadata": {},
   "outputs": [
    {
     "data": {
      "text/plain": [
       "[array([[1],\n",
       "        [2]]), array([[0.74577486],\n",
       "        [0.75421716],\n",
       "        [0.68581636]]), array([[0.76414002]])]"
      ]
     },
     "execution_count": 117,
     "metadata": {},
     "output_type": "execute_result"
    }
   ],
   "source": [
    "h_inputs"
   ]
  },
  {
   "cell_type": "code",
   "execution_count": 118,
   "metadata": {},
   "outputs": [
    {
     "data": {
      "text/plain": [
       "[array([[0.1228951 , 0.47665422],\n",
       "        [0.00668225, 0.55727484],\n",
       "        [0.66641514, 0.05710856]]),\n",
       " array([[0.68557842, 0.53861022, 0.37618885]])]"
      ]
     },
     "execution_count": 118,
     "metadata": {},
     "output_type": "execute_result"
    }
   ],
   "source": [
    "weights"
   ]
  }
 ],
 "metadata": {
  "kernelspec": {
   "display_name": "Python [default]",
   "language": "python",
   "name": "python3"
  },
  "language_info": {
   "codemirror_mode": {
    "name": "ipython",
    "version": 3
   },
   "file_extension": ".py",
   "mimetype": "text/x-python",
   "name": "python",
   "nbconvert_exporter": "python",
   "pygments_lexer": "ipython3",
   "version": "3.5.5"
  }
 },
 "nbformat": 4,
 "nbformat_minor": 2
}
